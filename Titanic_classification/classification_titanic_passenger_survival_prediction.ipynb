{
 "cells": [
  {
   "cell_type": "markdown",
   "metadata": {},
   "source": [
    "# Problem: Titanic Ship Passenger Survival\n",
    " Problem class: Supervised Classification\n",
    " \n",
    " Problem dataset link: \n",
    " \n",
    " Problem description: \n",
    " \n",
    "    Dataset contains information about the passengers travelling on the famous ship\n",
    "    Titanic on the fateful sail that saw it's sinking\n",
    " \n",
    " Problem Task:\n",
    "     Have to predict who will servive after ship sink"
   ]
  },
  {
   "cell_type": "markdown",
   "metadata": {},
   "source": [
    "# Importing libraries"
   ]
  },
  {
   "cell_type": "code",
   "execution_count": 3,
   "metadata": {},
   "outputs": [],
   "source": [
    "import warnings\n",
    "warnings.filterwarnings('ignore')\n",
    "\n",
    "import pandas as pd\n",
    "import numpy as np\n",
    "import matplotlib.pyplot as plt\n",
    "%matplotlib inline\n",
    "\n",
    "import seaborn as sns\n",
    "sns.set()"
   ]
  },
  {
   "cell_type": "markdown",
   "metadata": {},
   "source": [
    "# Feature or column description"
   ]
  },
  {
   "cell_type": "markdown",
   "metadata": {},
   "source": [
    "COLUMN DESCRIPTIONS:\n",
    "* pclass Passenger Class ( 1 = 1st; 2 = 2nd; 3 = 3rd)\n",
    "* survival Survival ( 0 = No; 1 = Yes)\n",
    "* name Name\n",
    "* sex Sex\n",
    "* age Age\n",
    "* sibsp Number of Siblings/Spouses Aboard\n",
    "* parch Number of Parents/Children Aboard\n",
    "* ticket Ticket Number\n",
    "* fare Passenger Fare\n",
    "* cabin Cabin\n",
    "* embarked Port of Embarkation ( C = Cherbourg; Q = Queenstown; S = Southampton)\n",
    "* boat Lifeboat\n",
    "* body Body Identification Number\n",
    "* home. dest Home/Destination"
   ]
  },
  {
   "cell_type": "code",
   "execution_count": null,
   "metadata": {},
   "outputs": [],
   "source": []
  }
 ],
 "metadata": {
  "kernelspec": {
   "display_name": "Python 3",
   "language": "python",
   "name": "python3"
  },
  "language_info": {
   "codemirror_mode": {
    "name": "ipython",
    "version": 3
   },
   "file_extension": ".py",
   "mimetype": "text/x-python",
   "name": "python",
   "nbconvert_exporter": "python",
   "pygments_lexer": "ipython3",
   "version": "3.7.3"
  }
 },
 "nbformat": 4,
 "nbformat_minor": 2
}
